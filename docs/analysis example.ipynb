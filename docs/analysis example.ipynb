{
 "cells": [
  {
   "cell_type": "code",
   "execution_count": 1,
   "metadata": {
    "collapsed": true
   },
   "outputs": [],
   "source": [
    "# import some libraries\n",
    "import numpy as np                 # module for numerical computing.\n",
    "import matplotlib.pyplot as plt    # module for plotting.\n",
    "\n",
    "# run some 'magic' commands\n",
    "%matplotlib inline                         # allows plots to be displayed\n",
    "                                           # in this html browser/notebook.\n",
    "%run D:/repos/epm-tracker/epm/analysis.py  # run the analysis script in the epm folder"
   ]
  },
  {
   "cell_type": "code",
   "execution_count": 2,
   "metadata": {
    "collapsed": true
   },
   "outputs": [],
   "source": [
    "# load in you data\n",
    "\n",
    "# the TrackingData class is found in analysis.py, and\n",
    "# provides a convienent wrapper for looking at your \n",
    "# tracking data\n",
    "tracking_data = TrackingData('test2-tracking-data-04.xlsx')\n",
    "\n",
    "# the EPMArena class is also found in analysis.py and\n",
    "# provides a convienent wrapper for storing information\n",
    "# about the arena mask you created in the GUI\n",
    "arena = EPMArena('test2_mask-pixel-coords.xlsx')  # note that you pass the \n",
    "                                                  # the pixel mask file with\n",
    "                                                  # \"-pixel-coords\" appended to \n",
    "                                                  # the end of its name."
   ]
  },
  {
   "cell_type": "code",
   "execution_count": 4,
   "metadata": {
    "collapsed": false
   },
   "outputs": [
    {
     "data": {
      "text/plain": [
       "array([ 109.23765432,  109.23765432,  106.5821727 , ...,  102.76878613,\n",
       "        103.10471204,  103.59162304])"
      ]
     },
     "execution_count": 4,
     "metadata": {},
     "output_type": "execute_result"
    }
   ],
   "source": [
    "# Take a look at whats contained in your tracking_data\n",
    "tracking_data.rr"
   ]
  },
  {
   "cell_type": "code",
   "execution_count": 5,
   "metadata": {
    "collapsed": false
   },
   "outputs": [
    {
     "data": {
      "text/plain": [
       "array([ 164.64814815,  164.64814815,  163.98607242, ...,  197.60115607,\n",
       "        196.95287958,  195.2408377 ])"
      ]
     },
     "execution_count": 5,
     "metadata": {},
     "output_type": "execute_result"
    }
   ],
   "source": [
    "tracking_data.cc"
   ]
  },
  {
   "cell_type": "code",
   "execution_count": 6,
   "metadata": {
    "collapsed": false
   },
   "outputs": [
    {
     "data": {
      "image/png": "[encoded data removed]",
      "text/plain": [
       "<matplotlib.figure.Figure at 0xca29ba8>"
      ]
     },
     "metadata": {},
     "output_type": "display_data"
    }
   ],
   "source": [
    "# above, are simply the coordinates of the mouse in the EPM during the \n",
    "# tracking trial.\n",
    "\n",
    "# you can plot these as follows:\n",
    "fig, ax = plt.subplots()                          # create a figure and axes handle to plot on\n",
    "ax.scatter(tracking_data.cc, tracking_data.rr)    # create a scatter plot of the tracking coords\n",
    "ax.set_xlim(0, 320)                               # set the x-limit to match the shape of the video frame\n",
    "ax.set_ylim(0, 240)                               # set the y-limit to match the shape of the video frame\n",
    "ax.invert_yaxis()                                 # invert the y-axis, so that the track matches what you observe in the video."
   ]
  },
  {
   "cell_type": "code",
   "execution_count": 7,
   "metadata": {
    "collapsed": false
   },
   "outputs": [
    {
     "name": "stdout",
     "output_type": "stream",
     "text": [
      "8205.98047963\n"
     ]
    }
   ],
   "source": [
    "# you can get the total distance the mouse has traveled as follows:\n",
    "total_distance = get_total_distance_traveled(tracking_data)\n",
    "print total_distance"
   ]
  },
  {
   "cell_type": "code",
   "execution_count": 9,
   "metadata": {
    "collapsed": false
   },
   "outputs": [
    {
     "data": {
      "text/plain": [
       "array([ 0.        ,  2.73677308,  2.34684814, ...,  0.81376387,\n",
       "        0.73014288,  1.77993532])"
      ]
     },
     "execution_count": 9,
     "metadata": {},
     "output_type": "execute_result"
    }
   ],
   "source": [
    "# the above means that the mouse traveled a total of 8205.98 pixels over\n",
    "# the course of the recording.\n",
    "\n",
    "# you can also get the total distance that the mouse traveled from one\n",
    "# frame to the next, for all frames, by calling:\n",
    "distance_per_frame = get_per_frame_distance_traveled(tracking_data)\n",
    "distance_per_frame"
   ]
  },
  {
   "cell_type": "markdown",
   "metadata": {},
   "source": [
    "<hr>"
   ]
  },
  {
   "cell_type": "code",
   "execution_count": 19,
   "metadata": {
    "collapsed": false
   },
   "outputs": [
    {
     "data": {
      "image/png": "[encoded data removed]",
      "text/plain": [
       "<matplotlib.figure.Figure at 0xd0709e8>"
      ]
     },
     "metadata": {},
     "output_type": "display_data"
    }
   ],
   "source": [
    "# Now, we can get data specific to the EPM by using the tracking_data\n",
    "# and arena variables together.\n",
    "\n",
    "# first, use the arena variable to plot the arena, and determine arm \n",
    "# labels\n",
    "fig, ax = plt.subplots()\n",
    "ax = arena.plot_arms(ax)"
   ]
  },
  {
   "cell_type": "code",
   "execution_count": 12,
   "metadata": {
    "collapsed": true
   },
   "outputs": [],
   "source": [
    "# Now that we know how the arena is oriented, we can specify which arms are \n",
    "# open, and which arms are closed, as follows:\n",
    "arena.set_open_arms(0, 1)\n",
    "arena.set_closed_arms(2, 3)"
   ]
  },
  {
   "cell_type": "code",
   "execution_count": 14,
   "metadata": {
    "collapsed": false
   },
   "outputs": [
    {
     "name": "stdout",
     "output_type": "stream",
     "text": [
      "0.328895678743\n"
     ]
    }
   ],
   "source": [
    "# And then we can call EMP-specific analysis functions.\n",
    "\n",
    "# First, determine the fraction of time that the mouse spent in the\n",
    "# open arms:\n",
    "time_in_open = get_time_in_open_arms(tracking_data, arena)\n",
    "print time_in_open"
   ]
  },
  {
   "cell_type": "code",
   "execution_count": 15,
   "metadata": {
    "collapsed": false
   },
   "outputs": [
    {
     "name": "stdout",
     "output_type": "stream",
     "text": [
      "0.487123526844\n"
     ]
    }
   ],
   "source": [
    "# Then, determine the fraction of time the mouse spent in the\n",
    "# closed arms:\n",
    "time_in_closed = get_time_in_closed_arms(tracking_data, arena)\n",
    "print time_in_closed"
   ]
  },
  {
   "cell_type": "code",
   "execution_count": 17,
   "metadata": {
    "collapsed": false
   },
   "outputs": [
    {
     "name": "stdout",
     "output_type": "stream",
     "text": [
      "0.183980794413\n"
     ]
    }
   ],
   "source": [
    "# finally, determine the fraction of time the mouse spent in the\n",
    "# center of the EPM:\n",
    "time_in_center = get_time_in_center(tracking_data, arena)\n",
    "print time_in_center"
   ]
  },
  {
   "cell_type": "code",
   "execution_count": 18,
   "metadata": {
    "collapsed": false
   },
   "outputs": [
    {
     "name": "stdout",
     "output_type": "stream",
     "text": [
      "1.0\n"
     ]
    }
   ],
   "source": [
    "# Note that these should add up to 1.\n",
    "print time_in_open + time_in_closed + time_in_center"
   ]
  },
  {
   "cell_type": "code",
   "execution_count": 26,
   "metadata": {
    "collapsed": false
   },
   "outputs": [
    {
     "data": {
      "text/plain": [
       "[<matplotlib.text.Text at 0xcc19ba8>,\n",
       " <matplotlib.text.Text at 0xcc15be0>,\n",
       " <matplotlib.text.Text at 0xf038cf8>]"
      ]
     },
     "execution_count": 26,
     "metadata": {},
     "output_type": "execute_result"
    },
    {
     "data": {
      "image/png": "[encoded data removed]",
      "text/plain": [
       "<matplotlib.figure.Figure at 0xcb6cef0>"
      ]
     },
     "metadata": {},
     "output_type": "display_data"
    }
   ],
   "source": [
    "# you can also plot these here if you want.\n",
    "fig, ax = plt.subplots()\n",
    "ax.bar(left=[0, 1, 2], height=[time_in_open, time_in_closed, time_in_center])\n",
    "ax.set_ylabel('Fraction of Time')\n",
    "ax.set_xlabel('Location of Mouse')\n",
    "ax.set_xticks([0, 1, 2])\n",
    "ax.set_xticklabels(['Open Arms', 'Closed Arms', 'Center'])"
   ]
  },
  {
   "cell_type": "code",
   "execution_count": null,
   "metadata": {
    "collapsed": true
   },
   "outputs": [],
   "source": []
  }
 ],
 "metadata": {
  "kernelspec": {
   "display_name": "Python 2",
   "language": "python",
   "name": "python2"
  },
  "language_info": {
   "codemirror_mode": {
    "name": "ipython",
    "version": 2
   },
   "file_extension": ".py",
   "mimetype": "text/x-python",
   "name": "python",
   "nbconvert_exporter": "python",
   "pygments_lexer": "ipython2",
   "version": "2.7.13"
  }
 },
 "nbformat": 4,
 "nbformat_minor": 2
}
