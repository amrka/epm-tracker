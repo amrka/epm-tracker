{
 "cells": [
  {
   "cell_type": "code",
   "execution_count": 1,
   "metadata": {},
   "outputs": [],
   "source": [
    "# import some libraries\n",
    "# =====================\n",
    "# module for numerical computing.\n",
    "import numpy as np \n",
    "\n",
    "# module for plotting.\n",
    "import matplotlib.pyplot as plt\n",
    "\n",
    "# the epm-tracker package\n",
    "import epm.analysis as epm_analysis\n",
    "\n",
    "# run some 'magic' commands\n",
    "# =========================\n",
    "# allows plots to be displayed\n",
    "# in this html browser/notebook.\n",
    "%matplotlib inline"
   ]
  },
  {
   "cell_type": "code",
   "execution_count": 4,
   "metadata": {},
   "outputs": [],
   "source": [
    "# load in you data\n",
    "# ================\n",
    "# the TrackingData class is found in analysis.py, and\n",
    "# provides a convienent wrapper for looking at your \n",
    "# tracking data\n",
    "tracking_data = epm_analysis.TrackingData(\n",
    "        'data/test3-tracking-data.xlsx'\n",
    "    )\n",
    "\n",
    "# the EPMArena class is also found in analysis.py and\n",
    "# provides a convienent wrapper for storing information\n",
    "# about the arena mask you created in the GUI (note that\n",
    "# you must pass the pixel mask file with \"-pixel-coords\"\n",
    "# appended to the end of its name.\n",
    "arena = epm_analysis.EPMArena(\n",
    "        'data/test3-mask-pixel-coords.xlsx'\n",
    "    )"
   ]
  },
  {
   "cell_type": "code",
   "execution_count": 5,
   "metadata": {},
   "outputs": [
    {
     "data": {
      "text/plain": [
       "array([ 211.41780822,  211.41780822,  211.41780822, ...,   43.21818182,\n",
       "         43.21818182,   43.21818182])"
      ]
     },
     "execution_count": 5,
     "metadata": {},
     "output_type": "execute_result"
    }
   ],
   "source": [
    "# Take a look at whats contained in your tracking_data\n",
    "# these are the row-based, pixel coordinates of your\n",
    "# mouse across every frame.\n",
    "tracking_data.rr"
   ]
  },
  {
   "cell_type": "code",
   "execution_count": 7,
   "metadata": {},
   "outputs": [
    {
     "data": {
      "text/plain": [
       "array([ 215.98287671,  215.98287671,  215.98287671, ...,  212.71818182,\n",
       "        212.71818182,  212.71818182])"
      ]
     },
     "execution_count": 7,
     "metadata": {},
     "output_type": "execute_result"
    }
   ],
   "source": [
    "# these are the column-based, pixel coordinates of your\n",
    "# mouse across every frame.\n",
    "tracking_data.cc"
   ]
  },
  {
   "cell_type": "code",
   "execution_count": 8,
   "metadata": {},
   "outputs": [
    {
     "data": {
      "image/png": "[encoded data removed]",
      "text/plain": [
       "<matplotlib.figure.Figure at 0x7f3ddd6e6b10>"
      ]
     },
     "metadata": {},
     "output_type": "display_data"
    }
   ],
   "source": [
    "# above, are simply the coordinates of the mouse in the EPM during the \n",
    "# tracking trial. you can plot these data as follows:\n",
    "\n",
    "# create a figure and axes handle to plot on\n",
    "fig, ax = plt.subplots()\n",
    "# create a scatter plot of the tracking coords\n",
    "ax.scatter(tracking_data.cc, tracking_data.rr)\n",
    "# set the x-limit to match the shape of the video frame\n",
    "ax.set_xlim(0, 320)\n",
    "# set the y-limit to match the shape of the video frame\n",
    "ax.set_ylim(0, 240)\n",
    "# invert the y-axis, so that the track matches \n",
    "# what you observe in the video.\n",
    "ax.invert_yaxis()"
   ]
  },
  {
   "cell_type": "code",
   "execution_count": 10,
   "metadata": {},
   "outputs": [
    {
     "name": "stdout",
     "output_type": "stream",
     "text": [
      "5944.43012504\n"
     ]
    }
   ],
   "source": [
    "# you can get the total distance the mouse has traveled as follows:\n",
    "total_distance = epm_analysis.get_total_distance_traveled(tracking_data)\n",
    "print total_distance"
   ]
  },
  {
   "cell_type": "code",
   "execution_count": 11,
   "metadata": {},
   "outputs": [
    {
     "data": {
      "text/plain": [
       "array([ 0.,  0.,  0., ...,  0.,  0.,  0.])"
      ]
     },
     "execution_count": 11,
     "metadata": {},
     "output_type": "execute_result"
    }
   ],
   "source": [
    "# the above means that the mouse traveled a total of 5944.43 pixels over\n",
    "# the course of the recording.\n",
    "\n",
    "# you can also get the total distance that the mouse traveled from one\n",
    "# frame to the next, for all frames, by calling:\n",
    "distance_per_frame = epm_analysis.get_per_frame_distance_traveled(tracking_data)\n",
    "distance_per_frame"
   ]
  },
  {
   "cell_type": "markdown",
   "metadata": {},
   "source": [
    "<hr>"
   ]
  },
  {
   "cell_type": "code",
   "execution_count": 12,
   "metadata": {},
   "outputs": [
    {
     "data": {
      "image/png": "[encoded data removed]",
      "text/plain": [
       "<matplotlib.figure.Figure at 0x7f3ddd74bb90>"
      ]
     },
     "metadata": {},
     "output_type": "display_data"
    }
   ],
   "source": [
    "# Now, we can get data specific to the EPM by using the tracking_data\n",
    "# and arena variables together.\n",
    "\n",
    "# first, use the arena variable to plot the arena, and determine arm \n",
    "# labels\n",
    "fig, ax = plt.subplots()\n",
    "ax = arena.plot_arms(ax)"
   ]
  },
  {
   "cell_type": "code",
   "execution_count": 20,
   "metadata": {
    "collapsed": true
   },
   "outputs": [],
   "source": [
    "# Now that we know how the arena is oriented, we can specify which arms are \n",
    "# open, and which arms are closed, as follows:\n",
    "arena.set_open_arms(1, 2)\n",
    "arena.set_closed_arms(0, 3)"
   ]
  },
  {
   "cell_type": "code",
   "execution_count": 21,
   "metadata": {},
   "outputs": [
    {
     "name": "stdout",
     "output_type": "stream",
     "text": [
      "0.26917989418\n"
     ]
    }
   ],
   "source": [
    "# And then we can call EMP-specific analysis functions.\n",
    "\n",
    "# First, determine the fraction of time that the mouse spent in the\n",
    "# open arms:\n",
    "time_in_open = epm_analysis.get_time_in_open_arms(tracking_data, arena)\n",
    "print time_in_open"
   ]
  },
  {
   "cell_type": "code",
   "execution_count": 22,
   "metadata": {},
   "outputs": [
    {
     "name": "stdout",
     "output_type": "stream",
     "text": [
      "0.583553791887\n"
     ]
    }
   ],
   "source": [
    "# Then, determine the fraction of time the mouse spent in the\n",
    "# closed arms:\n",
    "time_in_closed = epm_analysis.get_time_in_closed_arms(tracking_data, arena)\n",
    "print time_in_closed"
   ]
  },
  {
   "cell_type": "code",
   "execution_count": 23,
   "metadata": {},
   "outputs": [
    {
     "name": "stdout",
     "output_type": "stream",
     "text": [
      "0.147266313933\n"
     ]
    }
   ],
   "source": [
    "# finally, determine the fraction of time the mouse spent in the\n",
    "# center of the EPM:\n",
    "time_in_center = epm_analysis.get_time_in_center(tracking_data, arena)\n",
    "print time_in_center"
   ]
  },
  {
   "cell_type": "code",
   "execution_count": 24,
   "metadata": {},
   "outputs": [
    {
     "name": "stdout",
     "output_type": "stream",
     "text": [
      "1.0\n"
     ]
    }
   ],
   "source": [
    "# Note that these should add up to 1.\n",
    "print time_in_open + time_in_closed + time_in_center"
   ]
  },
  {
   "cell_type": "code",
   "execution_count": 25,
   "metadata": {},
   "outputs": [
    {
     "data": {
      "text/plain": [
       "[<matplotlib.text.Text at 0x7f3dda981c90>,\n",
       " <matplotlib.text.Text at 0x7f3dda994d10>,\n",
       " <matplotlib.text.Text at 0x7f3dda9fa490>]"
      ]
     },
     "execution_count": 25,
     "metadata": {},
     "output_type": "execute_result"
    },
    {
     "data": {
      "image/png": "[encoded data removed]",
      "text/plain": [
       "<matplotlib.figure.Figure at 0x7f3ddaa0a850>"
      ]
     },
     "metadata": {},
     "output_type": "display_data"
    }
   ],
   "source": [
    "# you can also plot these here if you want.\n",
    "fig, ax = plt.subplots()\n",
    "ax.bar(left=[0, 1, 2], height=[time_in_open, time_in_closed, time_in_center])\n",
    "ax.set_ylabel('Fraction of Time')\n",
    "ax.set_xlabel('Location of Mouse')\n",
    "ax.set_xticks([0, 1, 2])\n",
    "ax.set_xticklabels(['Open Arms', 'Closed Arms', 'Center'])"
   ]
  },
  {
   "cell_type": "code",
   "execution_count": null,
   "metadata": {
    "collapsed": true
   },
   "outputs": [],
   "source": []
  }
 ],
 "metadata": {
  "kernelspec": {
   "display_name": "Python 2",
   "language": "python",
   "name": "python2"
  },
  "language_info": {
   "codemirror_mode": {
    "name": "ipython",
    "version": 2
   },
   "file_extension": ".py",
   "mimetype": "text/x-python",
   "name": "python",
   "nbconvert_exporter": "python",
   "pygments_lexer": "ipython2",
   "version": "2.7.13"
  }
 },
 "nbformat": 4,
 "nbformat_minor": 2
}
